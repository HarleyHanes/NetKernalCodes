{
 "cells": [
  {
   "cell_type": "markdown",
   "metadata": {
    "collapsed": true,
    "pycharm": {
     "name": "#%% md\n"
    }
   },
   "source": [
    "An implementation of the \"sanity check\" kernel, in which the feature\n",
    "vector of a matrix is a collection of topological properties of the matrix,\n",
    "such as no. of edges, no. of nodes, graph radius, etc. Because of some trouble\n",
    "I was having with the GitHub code, I reverted to an earlier version of the\n",
    "`SIRnet` function (given below)."
   ]
  },
  {
   "cell_type": "code",
   "execution_count": 2,
   "metadata": {
    "pycharm": {
     "name": "#%%\n"
    }
   },
   "outputs": [],
   "source": [
    "def SIRnet(thetaVec, N, adjMat, initInfected, chainBool, plotChain):\n",
    "    '''\n",
    "    +++++++++++++++++++++++++++++++\n",
    "    SIRnet function: generates a \"fuzzy\" random walk of a network from a stochastic\n",
    "        SIR simulation\n",
    "    +++++++++++++++++++++++++++++++\n",
    "    thetaVec     -- parameters of SIR model (see function for specifics)\n",
    "    N            -- no. of infected at which simulation is terminated\n",
    "    adjMat       -- adjacency matrix of contact network (should be numpy array)\n",
    "    initInfected -- index of initial node infected (value between 0 and len(adjMat)-1)\n",
    "    chainBool    -- Boolean variable controlling if the returned adjacency matrix is\n",
    "                    the size of the original matrix; if true, it will return only the\n",
    "                    adjacency matrix of the chain\n",
    "    plotChain    -- do you want to plot the resulting chain?\n",
    "                    (will only show the graph if chainBool = True)\n",
    "\n",
    "    Note that we do not keep track of time because N < len(adjMat)\n",
    "    '''\n",
    "\n",
    "    beta = thetaVec[0] # probability of transmission assuming 1 contact\n",
    "    gamma = thetaVec[1] # recovery rate\n",
    "\n",
    "    if N > len(adjMat):\n",
    "        print(\"ERROR: number of infected must be less than size of adjacency matrix!\")\n",
    "        return\n",
    "\n",
    "    successBool = False\n",
    "    # make sure we return subgraph of length w/N nodes\n",
    "    while not successBool:\n",
    "        infCount = 1\n",
    "\n",
    "        # arrays containing total and infected populations\n",
    "        NVec = np.array(range(len(adjMat))) # total no. of nodes\n",
    "        infVec = np.array([np.random.choice(range(len(adjMat)))], dtype = int)\n",
    "        recVec = [] # empty array\n",
    "\n",
    "        while (infCount < N) & (infCount > 0):\n",
    "\n",
    "            # update susceptible pop. array\n",
    "            deleteVec = np.sort(np.concatenate((infVec,recVec)))\n",
    "            deleteVec = deleteVec.astype(int)\n",
    "            susVec = np.delete(NVec, deleteVec)\n",
    "\n",
    "            # calculate rates of new infections/recoveries\n",
    "            atRiskSus = np.sum(adjMat[infVec,:], axis=0) # at-risk susceptibles\n",
    "            atRiskSus = np.where(atRiskSus > 0)\n",
    "            # take the intersect of at-risk susceptibles and susceptibles\n",
    "            atRiskSus = np.intersect1d(susVec, atRiskSus)\n",
    "            rateS2I = beta*len(atRiskSus)\n",
    "\n",
    "            rateI2R = gamma*len(infVec)\n",
    "\n",
    "            # Gillespie algorithm but w/o time\n",
    "            totalRate = rateS2I + rateI2R\n",
    "            rateS2I = rateS2I / totalRate\n",
    "            rateI2R = rateI2R / totalRate\n",
    "\n",
    "            tmpRand = np.random.uniform()\n",
    "            if tmpRand <= rateS2I:\n",
    "                # a random susceptible becomes infected\n",
    "                infVec = np.sort(np.append(infVec, np.random.choice(atRiskSus, 1)))\n",
    "                infCount += 1\n",
    "            else:\n",
    "                # an infected individual recovers\n",
    "                tmpInd = np.random.choice(len(infVec))\n",
    "                recVec = np.append(recVec, infVec[tmpInd])\n",
    "                infVec = np.delete(infVec, tmpInd)\n",
    "                infCount -= 1\n",
    "                ## end of if statement\n",
    "            ## end of while loop\n",
    "\n",
    "        if infCount == N:\n",
    "            successBool = True\n",
    "            contactVec = np.sort(np.concatenate((infVec, recVec)))\n",
    "            contactVec = contactVec.astype(int)\n",
    "\n",
    "            # prune the adjacency matrix so it only contains connections to infected nodes\n",
    "            keepMeMat = np.zeros((len(adjMat),len(adjMat)))\n",
    "            keepMeMat[contactVec,:] = 1\n",
    "            keepMeMat[:,contactVec] = 1\n",
    "            infAdjMat = np.multiply(keepMeMat, adjMat)\n",
    "\n",
    "            # only useful for plotting\n",
    "            if plotChain:\n",
    "                # plot the chain\n",
    "                colorVec = np.array(['green']*len(infAdjMat))\n",
    "                colorVec[contactVec.astype(int)] = 'red'\n",
    "\n",
    "            if chainBool:\n",
    "                # return only the chain\n",
    "                idxCols = np.argwhere(np.all(infAdjMat[..., :] == 0, axis=0))\n",
    "                idxRows = np.argwhere(np.all(infAdjMat[..., :] == 0, axis=1))\n",
    "                infAdjMat = np.delete(infAdjMat, idxCols, axis=1)\n",
    "                infAdjMat = np.delete(infAdjMat, idxRows, axis=0)\n",
    "                if plotChain:\n",
    "                    # plot the chain\n",
    "                    colorVec = np.delete(colorVec, idxCols)\n",
    "                    nx.draw_spring(nx.from_numpy_matrix(infAdjMat), node_color=colorVec)\n",
    "                    plt.show()\n",
    "\n",
    "            # print(\"Shape: \", infAdjMat.shape)\n",
    "            # print(\"Chain: \", infAdjMat)\n",
    "        else:\n",
    "            successBool = False\n",
    "\n",
    "    ## end of while successBool loop\n",
    "    return infAdjMat"
   ]
  },
  {
   "cell_type": "markdown",
   "metadata": {
    "pycharm": {
     "name": "#%% md\n"
    }
   },
   "source": [
    "Next, a revised version of the `GetSimulatedData` function from the GitHub.\n",
    "The most significant difference b/w earlier versions is that this one (1) ensures\n",
    "the graph is connected before being used as training data, and (2) uses random\n",
    "graph generation parameter values. The former change was to prevent hang ups with the\n",
    "SIR code, while the latter tests the robustness of the naive classifier.\n",
    "\n",
    "Even though the parameters for the graph generations are not realistic, they are\n",
    "mainly so that the SVM can learn the full breadth of topological possibilities for\n",
    "each graph class. Probabilities for the E-R graphs are limited above by 90% to\n",
    "discern them sufficiently from complete graphs.\n"
   ]
  },
  {
   "cell_type": "code",
   "execution_count": 119,
   "metadata": {
    "pycharm": {
     "name": "#%%\n"
    }
   },
   "outputs": [],
   "source": [
    "import numpy as np\n",
    "import random\n",
    "\n",
    "def GetSimulatedData(num_samples, models, network_size, sir_params, infection_cutoff):\n",
    "    x_adjMat= []\n",
    "    y_network = []\n",
    "    num_models = len(models)\n",
    "\n",
    "    for j in range(num_models):\n",
    "        network_type = models[j]\n",
    "        for i in range(int(num_samples/num_models)):\n",
    "            # print(i)\n",
    "            if network_type.lower()==\"small worlds\":\n",
    "                graph = nx.watts_strogatz_graph(network_size, random.randint(1,10)*2,\n",
    "                                                np.random.uniform())\n",
    "                while (not nx.is_connected(graph)):\n",
    "                    graph = nx.watts_strogatz_graph(network_size, random.randint(1,10)*2,\n",
    "                                                    np.random.uniform())\n",
    "            elif network_type.lower()==\"erdos renyi\":\n",
    "                # the upper bound is set to 10%\n",
    "                graph = nx.fast_gnp_random_graph(network_size,\n",
    "                                                 np.random.uniform(high=0.9))\n",
    "                while (not nx.is_connected(graph)):\n",
    "                    graph = nx.fast_gnp_random_graph(network_size,\n",
    "                                                     np.random.uniform(high=0.9))\n",
    "            elif network_type.lower()==\"complete\":\n",
    "                graph = nx.erdos_renyi_graph(network_size, 1)\n",
    "            elif network_type.lower() == \"scale-free\":\n",
    "                graph = nx.barabasi_albert_graph(network_size, random.randint(1,20))\n",
    "\n",
    "            # #Draw Adjacency matrix\n",
    "            ad_mat = nx.linalg.graphmatrix.adjacency_matrix(graph).toarray()\n",
    "            # #Simulate infection\n",
    "            # NOTE: chainBool is set to True since we only want the infected \"chain\"\n",
    "            # and their connections\n",
    "            ad_mat =SIRnet(sir_params,infection_cutoff*network_size, ad_mat, 0,\n",
    "                           True, False)\n",
    "\n",
    "            # x_adjMat.append(ad_mat)\n",
    "            # extract feature vector\n",
    "            fv = np.zeros(5)\n",
    "            # no. of edges\n",
    "            fv[0] = sum(sum(ad_mat))/2\n",
    "            # no. of nodes\n",
    "            fv[1] = len(ad_mat)\n",
    "            # max. degree\n",
    "            fv[2] = max(sum(ad_mat))\n",
    "            # avg. degree\n",
    "            fv[3] = np.mean(sum(ad_mat))\n",
    "            # convert to networkx graph\n",
    "            x1tmp = nx.from_numpy_array(ad_mat)\n",
    "            # radius of graph\n",
    "            fv[4] = nx.radius(x1tmp)\n",
    "\n",
    "            # keeping the notation the same here, even though we're not\n",
    "            # working with adjacency matrices\n",
    "            x_adjMat.append(fv)\n",
    "            y_network.append(network_type.lower())\n",
    "\n",
    "    # save data\n",
    "    np.savez(\"C:/Users/cole/OneDrive/Dropbox_new/BMA_790_final_project/data/test_data.npz\",\n",
    "             x_adjMat = x_adjMat, y_network= y_network)"
   ]
  },
  {
   "cell_type": "markdown",
   "source": [
    "The following is just a chunk of code to see how the data looks. This was also\n",
    "to make sure the SIR code was behaving."
   ],
   "metadata": {
    "collapsed": false,
    "pycharm": {
     "name": "#%% md\n"
    }
   }
  },
  {
   "cell_type": "code",
   "execution_count": 120,
   "outputs": [
    {
     "name": "stdout",
     "output_type": "stream",
     "text": [
      "0.0881190121826354\n"
     ]
    },
    {
     "data": {
      "text/plain": "<Figure size 432x288 with 1 Axes>",
      "image/png": "[encoded data removed]"
     },
     "metadata": {},
     "output_type": "display_data"
    }
   ],
   "source": [
    "# generate some data to check my sanity...\n",
    "testVal = np.random.uniform(high=0.1)\n",
    "graph = nx.fast_gnp_random_graph(network_size,\n",
    "                                 testVal)\n",
    "while (not nx.is_connected(graph)):\n",
    "    testVal = np.random.uniform(high=0.1)\n",
    "    graph = nx.fast_gnp_random_graph(network_size,\n",
    "                                     testVal)\n",
    "print(testVal)\n",
    "ad_mat = nx.linalg.graphmatrix.adjacency_matrix(graph).toarray()\n",
    "# #Simulate infection\n",
    "ad_mat =SIRnet(np.array([0.5,0.1]),5, ad_mat, 0,\n",
    "               True, True)"
   ],
   "metadata": {
    "collapsed": false,
    "pycharm": {
     "name": "#%%\n"
    }
   }
  },
  {
   "cell_type": "markdown",
   "metadata": {
    "pycharm": {
     "name": "#%% md\n"
    }
   },
   "source": [
    "Now generate the test data, load it in, and perform the fit."
   ]
  },
  {
   "cell_type": "code",
   "execution_count": 136,
   "metadata": {
    "pycharm": {
     "name": "#%%\n"
    }
   },
   "outputs": [
    {
     "name": "stdout",
     "output_type": "stream",
     "text": [
      "['x_adjMat', 'y_network']\n"
     ]
    }
   ],
   "source": [
    "# load packages\n",
    "import sys\n",
    "import networkx as nx\n",
    "import numpy as np\n",
    "import matplotlib.pyplot as plt\n",
    "\n",
    "#Load Functions\n",
    "from sklearn.svm import SVC\n",
    "from sklearn.model_selection import cross_validate\n",
    "from sklearn.model_selection import cross_val_score\n",
    "from sklearn.model_selection import train_test_split\n",
    "from sklearn.metrics import confusion_matrix\n",
    "\n",
    "#----------------Generate test data---------------------\n",
    "models= [\"small worlds\", \"erdos renyi\", \"complete\", \"scale-free\"]\n",
    "# this was reduced just in case it was contributing to improved classification\n",
    "# (classification actually improves as this increases)\n",
    "network_size=100\n",
    "sir_params= np.array([0.5, 0.1])\n",
    "infection_cutoff=(5/500)\n",
    "GetSimulatedData(1000, models, network_size, sir_params, infection_cutoff)\n",
    "#----------------Load test data---------------------\n",
    "data=np.load(\"C:/Users/cole/OneDrive/Dropbox_new/BMA_790_final_project/data/test_data.npz\", allow_pickle=True)\n",
    "print(data.files)"
   ]
  },
  {
   "cell_type": "markdown",
   "source": [
    "Just a sanity check..."
   ],
   "metadata": {
    "collapsed": false,
    "pycharm": {
     "name": "#%% md\n"
    }
   }
  },
  {
   "cell_type": "code",
   "execution_count": 137,
   "metadata": {
    "pycharm": {
     "name": "#%%\n"
    }
   },
   "outputs": [
    {
     "name": "stdout",
     "output_type": "stream",
     "text": [
      "(700, 5)\n",
      "(700,)\n",
      "(300, 5)\n",
      "(300,)\n"
     ]
    }
   ],
   "source": [
    "x_data = data[\"x_adjMat\"]\n",
    "y_data = data[\"y_network\"]\n",
    "x_train, x_test, y_train, y_test = train_test_split(x_data,\n",
    "                                                    y_data,\n",
    "                                                    test_size = 0.3)\n",
    "print(x_train.shape)\n",
    "print(y_train.shape)\n",
    "print(x_test.shape)\n",
    "print(y_test.shape)"
   ]
  },
  {
   "cell_type": "markdown",
   "source": [
    "Now fit the model on the training data and see how it does on the testing data."
   ],
   "metadata": {
    "collapsed": false,
    "pycharm": {
     "name": "#%% md\n"
    }
   }
  },
  {
   "cell_type": "code",
   "execution_count": 139,
   "metadata": {
    "pycharm": {
     "name": "#%%\n"
    }
   },
   "outputs": [
    {
     "name": "stdout",
     "output_type": "stream",
     "text": [
      "(700, 5)\n",
      "['small worlds' 'erdos renyi' 'complete' 'small worlds' 'scale-free'\n",
      " 'scale-free' 'complete' 'erdos renyi' 'scale-free' 'erdos renyi'\n",
      " 'scale-free' 'small worlds' 'erdos renyi' 'scale-free' 'erdos renyi'\n",
      " 'erdos renyi' 'complete' 'scale-free' 'small worlds' 'small worlds']\n",
      "0.9466666666666667\n",
      "[[69  1  0  4]\n",
      " [ 1 76  0  3]\n",
      " [ 0  0 71  0]\n",
      " [ 7  0  0 68]]\n"
     ]
    }
   ],
   "source": [
    "from sklearn.svm import SVC\n",
    "from sklearn.metrics import confusion_matrix as cm\n",
    "\n",
    "#----------------Define Global Parameters---------------------\n",
    "# data_filename='../data/full_data.npz'\n",
    "# I used a 70/30 training/testing split since it's lightning fast\n",
    "test_train_split = .3\n",
    "\n",
    "# some suggested C values I found on the internet...\n",
    "c_vec = 2.0**(np.arange(-2,2)) # np.array([10,20,30,40,50])\n",
    "#----------------Load Data------------------------------------\n",
    "#unpack npz file\n",
    "# data=np.load(data_filename, allow_pickle=True)\n",
    "#seperate adjacency matrices and network type\n",
    "x_data = data[\"x_adjMat\"]\n",
    "y_data = data[\"y_network\"]\n",
    "#Split into Test/ Train\n",
    "x_train, x_test, y_train, y_test = train_test_split(x_data, y_data,\n",
    "                                                    test_size = test_train_split)\n",
    "print(x_train.shape)\n",
    "print(y_train[0:20])\n",
    "# where the magic happens\n",
    "naiveSVM = SVC(kernel='linear', C=c_vec[0])\n",
    "naiveSVM.fit(x_train, y_train)\n",
    "print(naiveSVM.score(x_test,y_test))\n",
    "y_pred = naiveSVM.predict(x_test)\n",
    "\n",
    "# a cheap form of PCA to identify the most influential predictor\n",
    "# naiveSVM.fit(np.delete(x_train,4,axis=1), y_train)\n",
    "# naiveSVM.score(np.delete(x_test,4,axis=1),y_test)\n",
    "\n",
    "# and now a confusion matrix...\n",
    "print(cm(y_test, y_pred,\n",
    "         labels=[\"scale-free\",\"erdos renyi\",\"complete\",\"small worlds\"]))"
   ]
  },
  {
   "cell_type": "markdown",
   "source": [
    "Make a 2D plot of the data according to the two most influential predictors."
   ],
   "metadata": {
    "collapsed": false,
    "pycharm": {
     "name": "#%% md\n"
    }
   }
  },
  {
   "cell_type": "code",
   "execution_count": 140,
   "metadata": {
    "pycharm": {
     "name": "#%%\n"
    }
   },
   "outputs": [
    {
     "data": {
      "text/plain": "<Figure size 432x288 with 1 Axes>",
      "image/png": "[encoded data removed]"
     },
     "metadata": {
      "needs_background": "light"
     },
     "output_type": "display_data"
    }
   ],
   "source": [
    "import matplotlib.colors as mc\n",
    "# generate a plot of the data\n",
    "xVec = x_train[:,1]\n",
    "yVec = x_train[:,2]\n",
    "\n",
    "colorVec = y_train\n",
    "colors = [\"red\", \"blue\", \"green\", \"purple\"]\n",
    "colorVec[colorVec == \"small worlds\"] = 0\n",
    "colorVec[colorVec == \"scale-free\"] = 1\n",
    "colorVec[colorVec == \"erdos renyi\"] = 2\n",
    "colorVec[colorVec == \"complete\"] = 3\n",
    "\n",
    "colormap = mc.ListedColormap(colors)\n",
    "\n",
    "# using two predictors, let's see how they look\n",
    "plt.scatter(xVec, yVec, c=colorVec.astype(int), cmap=colormap)\n",
    "plt.xlim(0,200)\n",
    "plt.ylim(0,50)\n",
    "plt.show()\n",
    "\n",
    "# plt.savefig(\"graph_plot.png\")"
   ]
  },
  {
   "cell_type": "code",
   "execution_count": null,
   "metadata": {
    "pycharm": {
     "is_executing": true,
     "name": "#%%\n"
    }
   },
   "outputs": [
    {
     "name": "stdout",
     "output_type": "stream",
     "text": [
      "Fitting model\n",
      "Testing model\n",
      "Fitting model\n",
      "Testing model\n",
      "Fitting model\n"
     ]
    }
   ],
   "source": [
    "c_vec = np.array([10,20,30,40,50])\n",
    "for iC in range(len(c_vec)):\n",
    "    # define SVC with precomputed kernel\n",
    "    model = SVC(kernel= \"precomputed\", C=c_vec[iC],  random_state=0)\n",
    "    # fit model\n",
    "    print(\"Fitting model\")\n",
    "    model.fit(kernel_train,y_train)\n",
    "    # test accuracy\n",
    "    print(\"Testing model\")\n",
    "    accuracy = model.score(kernel_test,y_test)\n",
    "    if accuracy >= accuracy_best:\n",
    "        y_pred = model.predict(kernel_test)\n",
    "        confmatrix = confusion_matrix(y_pred, y_test,\n",
    "                                      labels=[\"small worlds\", \"scale-free\", \"complete\", \"erdos renyi\"])\n",
    "        confmatrix = confmatrix#/(confmatrix.sum(axis=1)+.001)\n",
    "    accuracies[iC]=accuracy\n",
    "\n",
    "print(accuracies)\n",
    "print(y_test[0:20])\n",
    "print(y_pred[0:20])\n",
    "print(confmatrix)\n"
   ]
  }
 ],
 "metadata": {
  "kernelspec": {
   "display_name": "Python 3 (ipykernel)",
   "language": "python",
   "name": "python3"
  },
  "language_info": {
   "codemirror_mode": {
    "name": "ipython",
    "version": 3
   },
   "file_extension": ".py",
   "mimetype": "text/x-python",
   "name": "python",
   "nbconvert_exporter": "python",
   "pygments_lexer": "ipython3",
   "version": "3.9.1"
  }
 },
 "nbformat": 4,
 "nbformat_minor": 1
}