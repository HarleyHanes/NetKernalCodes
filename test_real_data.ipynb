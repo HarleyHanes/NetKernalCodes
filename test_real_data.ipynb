{
 "cells": [
  {
   "cell_type": "code",
   "execution_count": null,
   "outputs": [],
   "source": [
    "import pandas as pd\n",
    "from collections import Counter\n",
    "\n",
    "# navigate to location of .edges file\n",
    "testGraph = nx.read_weighted_edgelist(\"C:/Users/cole/Downloads/fb-messages/fb-messages.edges\",\n",
    "                             comments='%', delimiter=',')\n",
    "\n",
    "# convert it to a matrix and let's see how it does!\n",
    "ad_mat = nx.linalg.graphmatrix.adjacency_matrix(testGraph).toarray()\n",
    "ad_mat = ad_mat + np.transpose(ad_mat)\n",
    "ad_mat[ad_mat > 0] = 1\n",
    "np.fill_diagonal(ad_mat,0)\n",
    "# run 100 replicates and store predictions\n",
    "predictVec = [\"\" for x in range(100)]\n",
    "for i in range(100):\n",
    "    # run 100 simulations to see how it predicts (using random node each time as I0)\n",
    "    ad_mat_chain = SIRnet(np.array([0.5,0.1]), 5, ad_mat,\n",
    "                    random.randint(0,len(ad_mat)), True, False)\n",
    "\n",
    "    ####### code to extract feature vector #######\n",
    "    #\n",
    "    #\n",
    "    #\n",
    "    #\n",
    "    \n",
    "    \n",
    "    # and predict\n",
    "    tmp = model.predict(fv.reshape(1,-1))\n",
    "    predictVec[i] = tmp[0]\n",
    "print(predictVec)\n",
    "\n",
    "# plot histogram of classifications\n",
    "letter_counts = Counter(predictVec)\n",
    "df = pandas.DataFrame.from_dict(letter_counts, orient='index')\n",
    "df.plot(kind='bar',fontsize=16)"
   ],
   "metadata": {
    "collapsed": false,
    "pycharm": {
     "name": "#%%\n"
    }
   }
  }
 ],
 "metadata": {
  "kernelspec": {
   "display_name": "Python 3",
   "language": "python",
   "name": "python3"
  },
  "language_info": {
   "codemirror_mode": {
    "name": "ipython",
    "version": 2
   },
   "file_extension": ".py",
   "mimetype": "text/x-python",
   "name": "python",
   "nbconvert_exporter": "python",
   "pygments_lexer": "ipython2",
   "version": "2.7.6"
  }
 },
 "nbformat": 4,
 "nbformat_minor": 0
}
